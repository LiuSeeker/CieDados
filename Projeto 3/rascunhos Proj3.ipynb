{
 "cells": [
  {
   "cell_type": "code",
   "execution_count": 1,
   "metadata": {
    "collapsed": true
   },
   "outputs": [],
   "source": [
    "##### Rascunhos"
   ]
  },
  {
   "cell_type": "code",
   "execution_count": null,
   "metadata": {
    "collapsed": true
   },
   "outputs": [],
   "source": [
    "def kill_dragon2(kill, dragon):\n",
    "    tkr = []\n",
    "    tdr3 = []\n",
    "    for i in range(len(df)):\n",
    "        la = []\n",
    "        la2 = []\n",
    "        b = 0\n",
    "        bt = df[kill][i]\n",
    "        if bt == \"[[]]\":            \n",
    "            tkr.append(b)\n",
    "            continue\n",
    "        bt = bt.replace(\"[\", \"\")\n",
    "        bt = bt.replace(\"]\", \"\")\n",
    "        bt = bt.replace(\" \", \"\")\n",
    "        bt = bt.split(\",\")\n",
    "        for j in bt:\n",
    "            j = j.replace(\"[\", \"\")\n",
    "            j = j.replace(\"]\", \"\")\n",
    "            j = j.replace(\" \", \"\")\n",
    "            j = j.split(\",\")\n",
    "            la.append(j)\n",
    "        for k in la:\n",
    "            la2.append(float(k[0]))\n",
    "        for l in la2:\n",
    "            if l <= 20:\n",
    "                b += 1\n",
    "        tkr.append(b)\n",
    "\n",
    "    for i in range(len(df)):\n",
    "        b = 0\n",
    "        bt = df[dragon][i]\n",
    "        if bt == \"[]\":\n",
    "            tdr3.append(b)\n",
    "            continue\n",
    "        bt = bt.replace(\"[\", \"\")\n",
    "        bt = bt.replace(\"]\", \"\")\n",
    "        bt = bt.replace(\" \", \"\")\n",
    "        bt = bt.split(\",\")\n",
    "        a = list(map(float,bt))\n",
    "        for j in a:\n",
    "            if j <= 20:\n",
    "                b += 1\n",
    "        tdr3.append(b)\n",
    "        \n",
    "    return tkr,tdr3"
   ]
  },
  {
   "cell_type": "code",
   "execution_count": null,
   "metadata": {
    "collapsed": true
   },
   "outputs": [],
   "source": [
    "kill_dragon(\"bKills\", \"bDragons\")"
   ]
  },
  {
   "cell_type": "code",
   "execution_count": null,
   "metadata": {
    "collapsed": true
   },
   "outputs": [],
   "source": [
    "def ronaldo2(obj, obj2):\n",
    "    lobj = []\n",
    "    lobj2 = []\n",
    "    llobj = [lobj,lobj2]\n",
    "    objs = [obj,obj2]\n",
    "    u = 0\n",
    "    for i in range(len(llobj)):\n",
    "        while u < len(df):\n",
    "            bt = df[objs[i]][u]\n",
    "            if bt == \"[]\":\n",
    "                llobj[i].append(0)\n",
    "                u += 1\n",
    "                continue\n",
    "            bt = bt.replace(\"[\", \"\")\n",
    "            bt = bt.replace(\"]\", \"\")\n",
    "            bt = bt.split(\",\")\n",
    "            llobj[i].append(len(bt))\n",
    "            u += 1\n",
    "    \n",
    "    return [llobj,objs]"
   ]
  },
  {
   "cell_type": "code",
   "execution_count": null,
   "metadata": {
    "collapsed": true
   },
   "outputs": [],
   "source": [
    "ronaldo2(\"bDragons\", \"bBarons\")\n",
    "#model = sm.Logit(df[\"bResult\"],Y12)\n",
    "#results = model.fit()\n",
    "#print(results.summary())\n"
   ]
  },
  {
   "cell_type": "code",
   "execution_count": null,
   "metadata": {
    "collapsed": true
   },
   "outputs": [],
   "source": [
    "#plt.figure(figsize=(20,20))\n",
    "#plt.scatter(ttb2,tdr2,color=\"g\")\n",
    "#plt.title(\"Relação entre a primeira torre do time azul e o primeiro dragon do time vermelho\")\n",
    "#plt.grid()\n",
    "#plt.ylabel(\"Tempo do primeiro dragon (min)\")\n",
    "#plt.xlabel(\"Tempo da primeira torre (min)\")\n",
    "#plt.show()\n",
    "\n",
    "#plt.figure(figsize=(20,20))\n",
    "#plt.scatter(tkr,tdr3,color=\"g\")\n",
    "#plt.title(\"Relação entre a primeira kill e o primeiro dragon do time vermelho\")\n",
    "#plt.grid()\n",
    "#plt.ylabel(\"Tempo do primeiro dragon (min)\")\n",
    "#plt.xlabel(\"Tempo da primeira kill (min)\")\n",
    "#plt.show()\n",
    "\n",
    "#if len(a) > 11:\n",
    "#    b = 0\n",
    "#    l.append(b)"
   ]
  }
 ],
 "metadata": {
  "kernelspec": {
   "display_name": "Python 3",
   "language": "python",
   "name": "python3"
  },
  "language_info": {
   "codemirror_mode": {
    "name": "ipython",
    "version": 3
   },
   "file_extension": ".py",
   "mimetype": "text/x-python",
   "name": "python",
   "nbconvert_exporter": "python",
   "pygments_lexer": "ipython3",
   "version": "3.6.0"
  }
 },
 "nbformat": 4,
 "nbformat_minor": 2
}
