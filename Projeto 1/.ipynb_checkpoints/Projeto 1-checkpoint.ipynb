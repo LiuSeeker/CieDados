{
 "cells": [
  {
   "cell_type": "markdown",
   "metadata": {},
   "source": [
    "# Ciência dos Dados - Projeto 1"
   ]
  },
  {
   "cell_type": "markdown",
   "metadata": {},
   "source": [
    "## Vitor Liu - 2A\n",
    "## Prof. Fabio Miranda"
   ]
  },
  {
   "cell_type": "markdown",
   "metadata": {},
   "source": [
    "## Titulo"
   ]
  },
  {
   "cell_type": "markdown",
   "metadata": {},
   "source": [
    "## Introdução\n",
    "\n",
    "Esse projeto tem como objetivo analisar, de acordo com as PNADs disponíveis, as diferentes caracteristicas da população de Minas Gerais em relação com o acesso à internet e televisão. Assim, é possível definir o perfil de domicílio modelo para possíveis investimentos em outros estados."
   ]
  },
  {
   "cell_type": "markdown",
   "metadata": {},
   "source": [
    "## Análise e Resultados"
   ]
  },
  {
   "cell_type": "code",
   "execution_count": 2,
   "metadata": {
    "collapsed": true
   },
   "outputs": [],
   "source": [
    "#Imports\n",
    "%matplotlib inline\n",
    "import pandas as pd\n",
    "import matplotlib.pyplot as plt\n",
    "import numpy as np\n",
    "import os"
   ]
  },
  {
   "cell_type": "code",
   "execution_count": 3,
   "metadata": {
    "collapsed": false
   },
   "outputs": [
    {
     "name": "stdout",
     "output_type": "stream",
     "text": [
      "Esperamos trabalhar no diretório\n",
      "C:\\Users\\LiuSeeker\\Desktop\\2o Semestre\\Ciência dos dados\\CieDados\\Projeto 1\n"
     ]
    }
   ],
   "source": [
    "#Local dos arquivos\n",
    "print('Esperamos trabalhar no diretório')\n",
    "print(os.getcwd())"
   ]
  },
  {
   "cell_type": "code",
   "execution_count": 9,
   "metadata": {
    "collapsed": false
   },
   "outputs": [],
   "source": [
    "def ledados(plan):\n",
    "    dadosres = pd.DataFrame(pd.read_csv(plan))\n",
    "\n",
    "    dadosres = dadosres.loc[:, [\"UF\",\"V0226\",\"V0227\",\"V02322\",\"V4614\"]]\n",
    "\n",
    "    #Tira as células NaN\n",
    "    dadosres = dadosres.fillna(value=0)\n",
    "    dadosres = dadosres.fillna(\"-\")\n",
    "\n",
    "    #Muda as categorias das colunas\n",
    "    dadosres[\"UF\"] = dadosres[\"UF\"].astype(\"category\")\n",
    "    dadosres[\"V0226\"] = dadosres[\"V0226\"].astype(\"category\")\n",
    "    dadosres[\"V0227\"] = dadosres[\"V0227\"].astype(\"category\")\n",
    "    dadosres[\"V02322\"] = dadosres[\"V02322\"].astype(\"category\")\n",
    "    dadosres[\"V4614\"] = dadosres[\"V4614\"].astype(\"int32\")\n",
    "\n",
    "    dadosres[\"UF\"].cat.categories = [\"Rondonia\",\"Acre\",\"Amazonas\",\"Roraima\", \\\n",
    "    \"Pará\",\"Amapá\", \"Tocantins\", \"Maranhão\", \"Piauí\", \"Ceará\",\"Rio Grande do Norte\",\"Paraíba\", \\\n",
    "    \"Pernambuco\",\"Alagoas\",\"Sergipe\",\"Bahia\",\"Minas Gerais\",\"Espírito Santo\",\"Rio de Janeiro\",\\\n",
    "    \"São Paulo\",\"Paraná\",\"Santa Catarina\",\"Rio Grande do Sul\",\"Mato Grosso do Sul\",\"Mato Grosso\",\"Goiás\",\"Distrito Federal\"]\n",
    "    dadosres[\"V0226\"].cat.categories = [\"-\",\"Sim\", \"Não\"]\n",
    "    dadosres[\"V0227\"].cat.categories = [\"-\",\"Sim\", \"Não\"]\n",
    "    dadosres[\"V02322\"].cat.categories = [\"-\",\"Sim\", \"Não\"]\n",
    "\n",
    "    dadosres = dadosres.rename(columns = {\"V0226\": \"TV em cores\", \"V0227\": \"TV preto e branco\", \\\n",
    "                                      \"V02322\": \"Internet\", \"V4614\": \"Renda mensal R$\"})\n",
    "    \n",
    "    return(dadosres)"
   ]
  },
  {
   "cell_type": "code",
   "execution_count": 13,
   "metadata": {
    "collapsed": false
   },
   "outputs": [
    {
     "name": "stdout",
     "output_type": "stream",
     "text": [
      "                      UF TV em cores TV preto e branco Internet  \\\n",
      "0               Rondonia           -                 -        -   \n",
      "1               Rondonia           -                 -        -   \n",
      "2               Rondonia         Sim                 -      Não   \n",
      "3               Rondonia         Não               Não      Não   \n",
      "4               Rondonia         Sim                 -      Não   \n",
      "5               Rondonia         Sim                 -      Não   \n",
      "6               Rondonia         Sim                 -      Não   \n",
      "7               Rondonia         Sim                 -      Sim   \n",
      "8               Rondonia         Sim                 -      Sim   \n",
      "9               Rondonia         Sim                 -      Sim   \n",
      "10              Rondonia         Sim                 -      Não   \n",
      "11              Rondonia         Sim                 -      Não   \n",
      "12              Rondonia         Sim                 -      Não   \n",
      "13              Rondonia           -                 -        -   \n",
      "14              Rondonia         Não               Não      Não   \n",
      "15              Rondonia         Sim                 -      Não   \n",
      "16              Rondonia         Não               Não      Não   \n",
      "17              Rondonia         Sim                 -      Sim   \n",
      "18              Rondonia         Sim                 -      Não   \n",
      "19              Rondonia         Sim                 -      Não   \n",
      "20              Rondonia         Sim                 -      Não   \n",
      "21              Rondonia         Sim                 -      Não   \n",
      "22              Rondonia         Sim                 -      Sim   \n",
      "23              Rondonia           -                 -        -   \n",
      "24              Rondonia         Sim                 -      Sim   \n",
      "25              Rondonia         Sim                 -      Não   \n",
      "26              Rondonia         Sim                 -      Não   \n",
      "27              Rondonia           -                 -        -   \n",
      "28              Rondonia         Sim                 -      Sim   \n",
      "29              Rondonia         Sim                 -      Sim   \n",
      "...                  ...         ...               ...      ...   \n",
      "148667  Distrito Federal         Sim                 -      Sim   \n",
      "148668  Distrito Federal         Sim                 -      Sim   \n",
      "148669  Distrito Federal         Sim                 -      Sim   \n",
      "148670  Distrito Federal         Sim                 -      Sim   \n",
      "148671  Distrito Federal         Sim                 -      Sim   \n",
      "148672  Distrito Federal         Sim                 -      Sim   \n",
      "148673  Distrito Federal         Sim                 -      Sim   \n",
      "148674  Distrito Federal           -                 -        -   \n",
      "148675  Distrito Federal           -                 -        -   \n",
      "148676  Distrito Federal           -                 -        -   \n",
      "148677  Distrito Federal         Sim                 -      Sim   \n",
      "148678  Distrito Federal         Sim                 -      Sim   \n",
      "148679  Distrito Federal         Sim                 -      Sim   \n",
      "148680  Distrito Federal         Sim                 -      Sim   \n",
      "148681  Distrito Federal         Sim                 -      Sim   \n",
      "148682  Distrito Federal         Sim                 -      Não   \n",
      "148683  Distrito Federal         Sim                 -      Não   \n",
      "148684  Distrito Federal         Sim                 -      Sim   \n",
      "148685  Distrito Federal           -                 -        -   \n",
      "148686  Distrito Federal           -                 -        -   \n",
      "148687  Distrito Federal         Sim                 -      Não   \n",
      "148688  Distrito Federal         Sim                 -      Sim   \n",
      "148689  Distrito Federal         Sim                 -      Sim   \n",
      "148690  Distrito Federal         Sim                 -      Não   \n",
      "148691  Distrito Federal           -                 -        -   \n",
      "148692  Distrito Federal         Sim                 -      Não   \n",
      "148693  Distrito Federal         Sim                 -      Sim   \n",
      "148694  Distrito Federal         Sim                 -      Sim   \n",
      "148695  Distrito Federal         Sim                 -      Não   \n",
      "148696  Distrito Federal           -                 -        -   \n",
      "\n",
      "        Renda mensal R$  \n",
      "0                     0  \n",
      "1                     0  \n",
      "2                   350  \n",
      "3                   678  \n",
      "4                   800  \n",
      "5                   800  \n",
      "6                  1234  \n",
      "7                  4000  \n",
      "8                  3500  \n",
      "9                  1300  \n",
      "10                 1400  \n",
      "11                 1000  \n",
      "12                 1100  \n",
      "13                    0  \n",
      "14                 1300  \n",
      "15                  678  \n",
      "16                 3000  \n",
      "17                 5000  \n",
      "18                 1178  \n",
      "19                  500  \n",
      "20                 2000  \n",
      "21                 2978  \n",
      "22                 1500  \n",
      "23                    0  \n",
      "24                 2410  \n",
      "25                 4606  \n",
      "26                 1356  \n",
      "27                    0  \n",
      "28                 4800  \n",
      "29                 3200  \n",
      "...                 ...  \n",
      "148667      -2147483648  \n",
      "148668             8000  \n",
      "148669            23500  \n",
      "148670      -2147483648  \n",
      "148671      -2147483648  \n",
      "148672            25000  \n",
      "148673      -2147483648  \n",
      "148674                0  \n",
      "148675                0  \n",
      "148676                0  \n",
      "148677            13000  \n",
      "148678            14000  \n",
      "148679            55200  \n",
      "148680             1615  \n",
      "148681              600  \n",
      "148682             1300  \n",
      "148683              750  \n",
      "148684             3000  \n",
      "148685                0  \n",
      "148686                0  \n",
      "148687             1780  \n",
      "148688             4870  \n",
      "148689             4500  \n",
      "148690             1550  \n",
      "148691                0  \n",
      "148692             2400  \n",
      "148693              100  \n",
      "148694             1550  \n",
      "148695              800  \n",
      "148696                0  \n",
      "\n",
      "[148697 rows x 5 columns]\n"
     ]
    }
   ],
   "source": [
    "#\n",
    "dadosres15 = ledados(\"DOM2015.csv\")\n",
    "dadosres14 = ledados(\"DOM2014.csv\")\n",
    "dadosres13 = ledados(\"DOM2013.csv\")\n",
    "\n",
    "print(dadosres13)"
   ]
  },
  {
   "cell_type": "code",
   "execution_count": null,
   "metadata": {
    "collapsed": true
   },
   "outputs": [],
   "source": []
  },
  {
   "cell_type": "code",
   "execution_count": null,
   "metadata": {
    "collapsed": true
   },
   "outputs": [],
   "source": []
  },
  {
   "cell_type": "code",
   "execution_count": null,
   "metadata": {
    "collapsed": true
   },
   "outputs": [],
   "source": []
  },
  {
   "cell_type": "code",
   "execution_count": null,
   "metadata": {
    "collapsed": true
   },
   "outputs": [],
   "source": []
  },
  {
   "cell_type": "code",
   "execution_count": null,
   "metadata": {
    "collapsed": true
   },
   "outputs": [],
   "source": []
  },
  {
   "cell_type": "code",
   "execution_count": null,
   "metadata": {
    "collapsed": true
   },
   "outputs": [],
   "source": []
  },
  {
   "cell_type": "code",
   "execution_count": null,
   "metadata": {
    "collapsed": true
   },
   "outputs": [],
   "source": []
  },
  {
   "cell_type": "code",
   "execution_count": null,
   "metadata": {
    "collapsed": true
   },
   "outputs": [],
   "source": []
  }
 ],
 "metadata": {
  "kernelspec": {
   "display_name": "Python 3",
   "language": "python",
   "name": "python3"
  },
  "language_info": {
   "codemirror_mode": {
    "name": "ipython",
    "version": 3
   },
   "file_extension": ".py",
   "mimetype": "text/x-python",
   "name": "python",
   "nbconvert_exporter": "python",
   "pygments_lexer": "ipython3",
   "version": "3.6.0"
  }
 },
 "nbformat": 4,
 "nbformat_minor": 2
}
