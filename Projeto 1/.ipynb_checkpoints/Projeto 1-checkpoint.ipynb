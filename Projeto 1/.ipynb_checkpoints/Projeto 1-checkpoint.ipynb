{
 "cells": [
  {
   "cell_type": "markdown",
   "metadata": {},
   "source": [
    "# Ciência dos Dados - Projeto 1"
   ]
  },
  {
   "cell_type": "markdown",
   "metadata": {},
   "source": [
    "## Vitor Liu - 2A\n",
    "## Prof. Fabio Miranda"
   ]
  },
  {
   "cell_type": "markdown",
   "metadata": {},
   "source": [
    "## Titulo"
   ]
  },
  {
   "cell_type": "markdown",
   "metadata": {},
   "source": [
    "## Introdução\n",
    "\n",
    "Esse projeto tem como objetivo analisar, de acordo com as PNADs disponíveis, as diferentes caracteristicas da população de Minas Gerais em relação com o acesso à internet e televisão. Assim, é possível definir o perfil de domicílio modelo para possíveis investimentos em outros estados.\n",
    "\n",
    "Como a área de residência, a quantidade de moradores e a renda mensal (em R$) influenciam nos diferentes servicos de Internet (3g/4g ou banda larga)?"
   ]
  },
  {
   "cell_type": "markdown",
   "metadata": {},
   "source": [
    "## Análise e Resultados"
   ]
  },
  {
   "cell_type": "code",
   "execution_count": 2,
   "metadata": {
    "collapsed": true
   },
   "outputs": [],
   "source": [
    "#Imports\n",
    "%matplotlib inline\n",
    "import pandas as pd\n",
    "import matplotlib.pyplot as plt\n",
    "import numpy as np\n",
    "import os"
   ]
  },
  {
   "cell_type": "code",
   "execution_count": 2,
   "metadata": {
    "collapsed": false
   },
   "outputs": [
    {
     "name": "stdout",
     "output_type": "stream",
     "text": [
      "Esperamos trabalhar no diretório\n",
      "C:\\Users\\LiuSeeker\\Desktop\\2o Semestre\\Ciência dos dados\\CieDados\\Projeto 1\n"
     ]
    }
   ],
   "source": [
    "#Local dos arquivos\n",
    "print('Esperamos trabalhar no diretório')\n",
    "print(os.getcwd())"
   ]
  },
  {
   "cell_type": "code",
   "execution_count": 3,
   "metadata": {
    "collapsed": false
   },
   "outputs": [],
   "source": [
    "def ledados(plan):\n",
    "    dadosres = pd.DataFrame(pd.read_csv(plan))\n",
    "\n",
    "    #Colunas escolhidas\n",
    "    dadosres = dadosres.loc[:, [\"UF\",\"V0226\",\"V02322\",\"V4614\",\"V4105\",\"V0105\"]]\n",
    "\n",
    "    #Tirando linhas com valor NaN\n",
    "    dadosres = dadosres.dropna(how=\"any\")\n",
    "    \n",
    "#HELP    #dadosres[(dadosres.V4105 == 1), (dadosres.V4105 == 2)|(dadosres.V4105 == 2)|(dadosres.V4105 == 3)] = \"Urbana\"\n",
    "\n",
    "    #Muda as categorias das colunas\n",
    "    dadosres[\"UF\"] = dadosres[\"UF\"].astype(\"category\")\n",
    "    dadosres[\"V0226\"] = dadosres[\"V0226\"].astype(\"category\")\n",
    "    dadosres[\"V02322\"] = dadosres[\"V02322\"].astype(\"category\")\n",
    "    dadosres[\"V4614\"] = dadosres[\"V4614\"].astype(\"int32\")\n",
    "    dadosres[\"V4105\"] = dadosres[\"V4105\"].astype(\"category\")\n",
    "    #dadosres[\"Área\"] = dadosres[\"V4105\"].astype(\"category\")\n",
    "    dadosres[\"V0105\"] = dadosres[\"V0105\"].astype(\"int32\")\n",
    "\n",
    "    #Define os nomes dos valores quantitativos\n",
    "    dadosres[\"UF\"].cat.categories = [\"Rondonia\",\"Acre\",\"Amazonas\",\"Roraima\", \\\n",
    "    \"Pará\",\"Amapá\", \"Tocantins\", \"Maranhão\", \"Piauí\", \"Ceará\",\"Rio Grande do Norte\",\"Paraíba\", \\\n",
    "    \"Pernambuco\",\"Alagoas\",\"Sergipe\",\"Bahia\",\"Minas Gerais\",\"Espírito Santo\",\"Rio de Janeiro\",\\\n",
    "    \"São Paulo\",\"Paraná\",\"Santa Catarina\",\"Rio Grande do Sul\",\"Mato Grosso do Sul\",\"Mato Grosso\",\"Goiás\",\"Distrito Federal\"]\n",
    "    dadosres[\"V0226\"].cat.categories = [\"Sim\", \"Não\"]\n",
    "    dadosres[\"V02322\"].cat.categories = [\"Sim\", \"Não\"]\n",
    "    #dadosres[\"Área\"].cat.set_categories = [\"Urbana\", \"Rural\"]\n",
    "    \n",
    "    #Mudança de nome das colunas\n",
    "    dadosres = dadosres.rename(columns = {\"V0226\": \"TV em cores\", \"V02322\": \"Internet\", \"V4614\": \"Renda mensal (R$)\", \"V0105\": \"Total de moradores\"})\n",
    "    \n",
    "    #Exclusão de colunas com valores inválidos/não importantes\n",
    "    dadosres = dadosres[dadosres[\"Renda mensal (R$)\"]!=999999999999]\n",
    "    dadosres = dadosres[dadosres[\"Renda mensal (R$)\"]>=0]\n",
    "    dadosres = dadosres[dadosres[\"UF\"]==\"Minas Gerais\"]\n",
    "    \n",
    "    return(dadosres)"
   ]
  },
  {
   "cell_type": "code",
   "execution_count": 4,
   "metadata": {
    "collapsed": false
   },
   "outputs": [],
   "source": [
    "dadosres15 = ledados(\"DOM2015.csv\")\n",
    "dadosres14 = ledados(\"DOM2014.csv\")\n",
    "dadosres13 = ledados(\"DOM2013.csv\")\n",
    "\n",
    "#dadosres14[\"Internet\"].value_counts() == #dadosres14.groupby(\"Internet\").size()\n",
    "#\n",
    "#pd.crosstab(dadosres15[\"Renda mensal R$\"],dadosres15[\"Internet\"])\n",
    "#dadosres13[\"Renda mensal R$\"].describe()\n",
    "#dadosres15[\"Renda mensal R$\"].plot(kind=\"hist\", bins = [0,1000,2000,3000,4000,5000,6000,7000,8000,9000,10000,11000,12000,13000,14000,15000,16000])"
   ]
  },
  {
   "cell_type": "code",
   "execution_count": 5,
   "metadata": {
    "collapsed": false
   },
   "outputs": [],
   "source": [
    "std13 = dadosres13[\"Renda mensal (R$)\"].std()\n",
    "std14 = dadosres14[\"Renda mensal (R$)\"].std()\n",
    "std15 = dadosres15[\"Renda mensal (R$)\"].std()\n",
    "mean13 = dadosres13[\"Renda mensal (R$)\"].mean()\n",
    "mean14 = dadosres14[\"Renda mensal (R$)\"].mean()\n",
    "mean15 = dadosres15[\"Renda mensal (R$)\"].mean()\n",
    "intersim13 = dadosres13[\"Internet\"].value_counts()[0]\n",
    "intersim14 = dadosres14[\"Internet\"].value_counts()[0]\n",
    "intersim15 = dadosres15[\"Internet\"].value_counts()[0]\n",
    "internao13 = dadosres13[\"Internet\"].value_counts()[1]\n",
    "internao14 = dadosres14[\"Internet\"].value_counts()[1]\n",
    "internao15 = dadosres15[\"Internet\"].value_counts()[1]\n",
    "tvsim13 = dadosres13[\"TV em cores\"].value_counts()[0]\n",
    "tvsim14 = dadosres14[\"TV em cores\"].value_counts()[0]\n",
    "tvsim15 = dadosres15[\"TV em cores\"].value_counts()[0]\n",
    "tvnao13 = dadosres13[\"TV em cores\"].value_counts()[1]\n",
    "tvnao14 = dadosres14[\"TV em cores\"].value_counts()[1]\n",
    "tvnao15 = dadosres15[\"TV em cores\"].value_counts()[1]"
   ]
  },
  {
   "cell_type": "code",
   "execution_count": 6,
   "metadata": {
    "collapsed": false
   },
   "outputs": [],
   "source": [
    "anos = (\"2013\", \"2014\", \"2015\")\n",
    "medias = (mean13, mean14, mean15)\n",
    "medianas = (std13, std14, std15)\n",
    "netsim = (intersim13, intersim14, intersim15)\n",
    "netnao = (internao13, internao14, internao15)\n",
    "tvsim = (tvsim13, tvsim14, tvsim15)\n",
    "tvnao = (tvnao13, tvnao14, tvnao15)\n",
    "dadosres = pd.DataFrame({\"Média renda mensal\": medias,\n",
    "                         \"Mediana renda mensal\": medianas,\n",
    "                         \"Tem Internet\": netsim,\n",
    "                         \"Não tem TV em cores\": tvnao,\n",
    "                         \"Não tem internet\": netnao,\n",
    "                         \"Tem TV em cores\": tvsim                         \n",
    "                        }, index=anos)\n"
   ]
  },
  {
   "cell_type": "code",
   "execution_count": 7,
   "metadata": {
    "collapsed": false
   },
   "outputs": [
    {
     "name": "stdout",
     "output_type": "stream",
     "text": [
      "      Mediana renda mensal  Média renda mensal  Não tem TV em cores  \\\n",
      "2013           3974.513734         2989.080398                  258   \n",
      "2014           5033.161736         3188.750976                  271   \n",
      "2015           4569.504946         3325.010990                  268   \n",
      "\n",
      "      Não tem internet  Tem Internet  Tem TV em cores  \n",
      "2013              5254          5393            10389  \n",
      "2014              4728          6287            10744  \n",
      "2015              4380          6630            10742  \n"
     ]
    }
   ],
   "source": [
    "print(dadosres)"
   ]
  },
  {
   "cell_type": "markdown",
   "metadata": {},
   "source": [
    "Qual é a distribuição da população de MG em relação à renda mensal (em reais)?"
   ]
  },
  {
   "cell_type": "code",
   "execution_count": 8,
   "metadata": {
    "collapsed": false
   },
   "outputs": [
    {
     "data": {
      "text/plain": [
       "<matplotlib.axes._subplots.AxesSubplot at 0x2100a374780>"
      ]
     },
     "execution_count": 8,
     "metadata": {},
     "output_type": "execute_result"
    },
    {
     "data": {
      "image/png": "[encoded data removed]",
      "text/plain": [
       "<matplotlib.figure.Figure at 0x2100a361dd8>"
      ]
     },
     "metadata": {},
     "output_type": "display_data"
    }
   ],
   "source": [
    "dadosres15[\"Renda mensal (R$)\"].plot(kind=\"hist\", bins = [0,1000,2000,3000,4000,5000,6000,7000,8000,9000,10000,11000,12000,13000,14000,15000,16000])"
   ]
  },
  {
   "cell_type": "markdown",
   "metadata": {},
   "source": [
    "Qual é a distribuição de quantidade de pessoas por domicilio em MG?"
   ]
  },
  {
   "cell_type": "code",
   "execution_count": 9,
   "metadata": {
    "collapsed": false
   },
   "outputs": [
    {
     "data": {
      "text/plain": [
       "<matplotlib.axes._subplots.AxesSubplot at 0x2100a361b70>"
      ]
     },
     "execution_count": 9,
     "metadata": {},
     "output_type": "execute_result"
    },
    {
     "data": {
      "image/png": "[encoded data removed]",
      "text/plain": [
       "<matplotlib.figure.Figure at 0x2100a4ab9e8>"
      ]
     },
     "metadata": {},
     "output_type": "display_data"
    }
   ],
   "source": [
    "dadosres15[\"Total de moradores\"].plot(kind=\"hist\", bins = [1,2,3,4,5,6,7,8,9,10,11,12,13,14,15,16,17,18,19,20])"
   ]
  },
  {
   "cell_type": "code",
   "execution_count": 18,
   "metadata": {
    "collapsed": false
   },
   "outputs": [
    {
     "data": {
      "text/plain": [
       "<matplotlib.axes._subplots.AxesSubplot at 0x2100acaafd0>"
      ]
     },
     "execution_count": 18,
     "metadata": {},
     "output_type": "execute_result"
    },
    {
     "data": {
      "image/png": "[encoded data removed]",
      "text/plain": [
       "<matplotlib.figure.Figure at 0x2100ac918d0>"
      ]
     },
     "metadata": {},
     "output_type": "display_data"
    }
   ],
   "source": [
    "dadosres15[\"Internet\"].value_counts().plot(kind=\"bar\")"
   ]
  },
  {
   "cell_type": "code",
   "execution_count": 19,
   "metadata": {
    "collapsed": false
   },
   "outputs": [
    {
     "data": {
      "text/plain": [
       "<matplotlib.axes._subplots.AxesSubplot at 0x2100a3e1898>"
      ]
     },
     "execution_count": 19,
     "metadata": {},
     "output_type": "execute_result"
    },
    {
     "data": {
      "image/png": "[encoded data removed]",
      "text/plain": [
       "<matplotlib.figure.Figure at 0x2100ad1f6d8>"
      ]
     },
     "metadata": {},
     "output_type": "display_data"
    }
   ],
   "source": [
    "dadosres15[\"TV em cores\"].value_counts().plot(kind=\"bar\")"
   ]
  },
  {
   "cell_type": "code",
   "execution_count": null,
   "metadata": {
    "collapsed": true
   },
   "outputs": [],
   "source": []
  }
 ],
 "metadata": {
  "kernelspec": {
   "display_name": "Python 3",
   "language": "python",
   "name": "python3"
  },
  "language_info": {
   "codemirror_mode": {
    "name": "ipython",
    "version": 3
   },
   "file_extension": ".py",
   "mimetype": "text/x-python",
   "name": "python",
   "nbconvert_exporter": "python",
   "pygments_lexer": "ipython3",
   "version": "3.6.0"
  }
 },
 "nbformat": 4,
 "nbformat_minor": 2
}
