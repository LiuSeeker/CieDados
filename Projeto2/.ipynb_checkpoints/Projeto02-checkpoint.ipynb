{
 "cells": [
  {
   "cell_type": "markdown",
   "metadata": {},
   "source": [
    "# Projeto 2 - Classificador Automático de Sentimento\n",
    "\n",
    "Você foi contratado por uma empresa parar analisar como os clientes estão reagindo a um determinado produto no Twitter. A empresa deseja que você crie um programa que irá analisar as mensagens disponíveis e classificará como \"relevante\" ou \"irrelevante\". Com isso ela deseja que mensagens negativas, que denigrem o nome do produto, ou que mereçam destaque, disparem um foco de atenção da área de marketing.<br /><br />\n",
    "Como aluno de Ciência dos Dados, você lembrou do Teorema de Bayes, mais especificamente do Classificador Naive-Bayes, que é largamente utilizado em filtros anti-spam de e-mails. O classificador permite calcular qual a probabilidade de uma mensagem ser relevante dadas as palavras em seu conteúdo.<br /><br />\n",
    "Para realizar o MVP (*minimum viable product*) do projeto, você precisa implementar uma versão do classificador que \"aprende\" o que é relevante com uma base de treinamento e compara a performance dos resultados com uma base de testes.<br /><br />\n",
    "Após validado, o seu protótipo poderá também capturar e classificar automaticamente as mensagens da plataforma.\n",
    "\n",
    "## Informações do Projeto\n",
    "\n",
    "Prazo: 13/Set até às 23:59.<br />\n",
    "Grupo: 1 ou 2 pessoas.<br /><br />\n",
    "Entregáveis via GitHub: \n",
    "* Arquivo notebook com o código do classificador, seguindo as orientações abaixo.\n",
    "* Arquivo Excel com as bases de treinamento e teste totalmente classificado.\n",
    "\n",
    "**NÃO disponibilizar o arquivo com os *access keys/tokens* do Twitter.**\n",
    "\n",
    "\n",
    "### Check 3: \n",
    "\n",
    "Até o dia 06 de Setembro às 23:59, o notebook e o xlsx devem estar no Github com as seguintes evidências: \n",
    "    * Conta no twitter criada.\n",
    "    * Produto escolhido.\n",
    "    * Arquivo Excel contendo a base de treinamento e teste já classificado.\n",
    "\n",
    "Sugestão de leitura:<br />\n",
    "http://docs.tweepy.org/en/v3.5.0/index.html<br />\n",
    "https://monkeylearn.com/blog/practical-explanation-naive-bayes-classifier/"
   ]
  },
  {
   "cell_type": "markdown",
   "metadata": {},
   "source": [
    "___\n",
    "\n",
    "## Preparando o ambiente\n",
    "\n",
    "Instalando a biblioteca *tweepy* para realizar a conexão com o Twitter:"
   ]
  },
  {
   "cell_type": "code",
   "execution_count": 2,
   "metadata": {
    "collapsed": true
   },
   "outputs": [],
   "source": [
    "%%capture\n",
    "\n",
    "#Instalando o tweepy\n",
    "!pip install tweepy"
   ]
  },
  {
   "cell_type": "markdown",
   "metadata": {},
   "source": [
    "Importando as Bibliotecas que serão utilizadas. Esteja livre para adicionar outras."
   ]
  },
  {
   "cell_type": "code",
   "execution_count": 3,
   "metadata": {
    "collapsed": true
   },
   "outputs": [],
   "source": [
    "import tweepy\n",
    "import math\n",
    "import os.path\n",
    "import pandas as pd\n",
    "import json\n",
    "import operator\n",
    "from random import shuffle\n",
    "import numpy as np\n",
    "from itertools import product\n",
    "from matplotlib_venn import venn2, venn2_circles"
   ]
  },
  {
   "cell_type": "markdown",
   "metadata": {},
   "source": [
    "___\n",
    "## Autenticando no  Twitter\n",
    "\n",
    "Para realizar a captura dos dados é necessário ter uma conta cadastrada no twitter:\n",
    "\n",
    "* Conta: ***https://twitter.com/vitorliu_55***\n",
    "\n",
    "\n",
    "1. Caso ainda não tenha uma: https://twitter.com/signup\n",
    "1. Depois é necessário registrar um app para usar a biblioteca: https://apps.twitter.com/\n",
    "1. Dentro do registro do App, na aba Keys and Access Tokens, anotar os seguintes campos:\n",
    "    1. Consumer Key (API Key)\n",
    "    1. Consumer Secret (API Secret)\n",
    "1. Mais abaixo, gere um Token e anote também:\n",
    "    1. Access Token\n",
    "    1. Access Token Secret\n",
    "    \n",
    "1. Preencha os valores no arquivo \"auth.pass\"\n",
    "\n",
    "**ATENÇÃO**: Nunca divulgue os dados desse arquivo online (GitHub, etc). Ele contém as chaves necessárias para realizar as operações no twitter de forma automática e portanto é equivalente a ser \"hackeado\". De posse desses dados, pessoas mal intencionadas podem fazer todas as operações manuais (tweetar, seguir, bloquear/desbloquear, listar os seguidores, etc). Para efeito do projeto, esse arquivo não precisa ser entregue!!!"
   ]
  },
  {
   "cell_type": "code",
   "execution_count": 4,
   "metadata": {
    "collapsed": false
   },
   "outputs": [],
   "source": [
    "#Dados de autenticação do twitter:\n",
    "\n",
    "#Coloque aqui o identificador da conta no twitter: @fulano\n",
    "\n",
    "#leitura do arquivo no formato JSON\n",
    "with open('auth.pass') as fp:\n",
    "    data = json.load(fp)\n",
    "\n",
    "#Configurando a biblioteca. Não modificar\n",
    "auth = tweepy.OAuthHandler(data['consumer_key'], data['consumer_secret'])\n",
    "auth.set_access_token(data['access_token'], data['access_token_secret'])"
   ]
  },
  {
   "cell_type": "markdown",
   "metadata": {},
   "source": [
    "___\n",
    "## Coletando Dados\n",
    "\n",
    "Agora vamos coletar os dados. Tenha em mente que dependendo do produto escolhido, não haverá uma quantidade significativa de mensagens, ou ainda poder haver muitos retweets.<br /><br /> \n",
    "Configurando:"
   ]
  },
  {
   "cell_type": "code",
   "execution_count": 8,
   "metadata": {
    "collapsed": true
   },
   "outputs": [],
   "source": [
    "#Produto escolhido:\n",
    "produto = 'Narcos'\n",
    "\n",
    "#Quantidade mínima de mensagens capturadas:\n",
    "n = 500\n",
    "#Quantidade mínima de mensagens para a base de treinamento:\n",
    "t = 300\n",
    "\n",
    "#Filtro de língua, escolha uma na tabela ISO 639-1.\n",
    "lang = 'pt'"
   ]
  },
  {
   "cell_type": "markdown",
   "metadata": {},
   "source": [
    "Capturando os dados do twitter:"
   ]
  },
  {
   "cell_type": "code",
   "execution_count": 9,
   "metadata": {
    "collapsed": true
   },
   "outputs": [],
   "source": [
    "#Cria um objeto para a captura\n",
    "api = tweepy.API(auth)\n",
    "\n",
    "#Inicia a captura, para mais detalhes: ver a documentação do tweepy\n",
    "i = 1\n",
    "msgs = []\n",
    "for msg in tweepy.Cursor(api.search, q=produto, lang=lang).items():    \n",
    "    msgs.append(msg.text.lower())\n",
    "    i += 1\n",
    "    if i > n:\n",
    "        break\n",
    "\n",
    "#Embaralhando as mensagens para reduzir um possível viés\n",
    "shuffle(msgs)"
   ]
  },
  {
   "cell_type": "markdown",
   "metadata": {},
   "source": [
    "Salvando os dados em uma planilha Excel:"
   ]
  },
  {
   "cell_type": "code",
   "execution_count": 10,
   "metadata": {
    "collapsed": true
   },
   "outputs": [],
   "source": [
    "#Verifica se o arquivo não existe para não substituir um conjunto pronto\n",
    "if not os.path.isfile('./{0}.xlsx'.format(produto)):\n",
    "    \n",
    "    #Abre o arquivo para escrita\n",
    "    writer = pd.ExcelWriter('{0}.xlsx'.format(produto))\n",
    "\n",
    "    #divide o conjunto de mensagens em duas planilhas\n",
    "    dft = pd.DataFrame({'Treinamento' : pd.Series(msgs[:t])})\n",
    "    dft.to_excel(excel_writer = writer, sheet_name = 'Treinamento', index = False)\n",
    "\n",
    "    dfc = pd.DataFrame({'Teste' : pd.Series(msgs[t:])})\n",
    "    dfc.to_excel(excel_writer = writer, sheet_name = 'Teste', index = False)\n",
    "\n",
    "    #fecha o arquivo\n",
    "    writer.save()"
   ]
  },
  {
   "cell_type": "markdown",
   "metadata": {},
   "source": [
    "___\n",
    "## Classificando as Mensagens\n",
    "\n",
    "Agora você deve abrir o arquivo Excel com as mensagens capturadas e classificar na Coluna B se a mensagem é relevante ou não.<br /> \n",
    "Não se esqueça de colocar um nome para a coluna na célula **B1**.<br /><br />\n",
    "Fazer o mesmo na planilha de Controle.\n",
    "\n",
    "___\n",
    "## Montando o Classificador Naive-Bayes\n",
    "\n",
    "Com a base de treinamento montada, comece a desenvolver o classificador. Escreva o seu código abaixo:\n",
    "\n",
    "Opcionalmente: \n",
    "* Limpar as mensagens removendo os caracteres: enter, :, \", ', (, ), etc. Não remover emojis.<br />\n",
    "* Corrigir separação de espaços entre palavras e/ou emojis.\n",
    "* Propor outras limpezas/transformações que não afetem a qualidade da informação.\n",
    "\n"
   ]
  },
  {
   "cell_type": "code",
   "execution_count": 39,
   "metadata": {
    "collapsed": false,
    "scrolled": false
   },
   "outputs": [
    {
     "name": "stdout",
     "output_type": "stream",
     "text": [
      "169\n",
      "171\n",
      "1052\n",
      "296\n",
      "3614\n",
      "0.9883040935672515\n",
      "0.6\n",
      "0.08190370780298838\n",
      "7.239995258416311\n"
     ]
    }
   ],
   "source": [
    "df = pd.DataFrame(pd.read_excel(\"Narcos.xlsx\"))\n",
    "d = {} #Dicionário que cada key é uma tuple com tadas as palavras de um tweet e o valor é classificação\n",
    "        #Ex: {(\"cada\", \"palavra\", \"do\", \"tweet\"): b} \n",
    "d_pcount = {} #Dicionário que cada key é uma palavra e o valor é total da contagem dessa palavra\n",
    "        #Ex: {\"palavra\": 4}\n",
    "d_classcount = {} #Dicionário que conta a quantidade da bom e neutro, respectivamente, por palavra\n",
    "        #Ex: {\"palavra\": [5,3]}\n",
    "t = \"\" #string que vira uma tuple com todas as palavras do tweet (que vira a key de um dicionário)\n",
    "r = \"\" #lista com todas as palavras\n",
    "\n",
    "#Criação de uma lista com todas as palavras (r)\n",
    "#Criação de um dicionário que cada key é uma tuple com tadas as palavras de um tweet, com o valor da classificação (d)\n",
    "for i in range(df.shape[0]):\n",
    "    t = df.iloc[i][\"Treinamento\"]\n",
    "    t += \" \"\n",
    "    t = t.replace(\",\", \"\")\n",
    "    t = t.replace(\"\\n\", \" \")\n",
    "    t = t.replace(\"'\", \"\")\n",
    "    t = t.replace('\"', \"\")\n",
    "    t = t.replace(\"(\", \"\")\n",
    "    t = t.replace(\")\", \"\")\n",
    "    t = t.replace(\"😂\", \" 😂\")\n",
    "    t = t.replace(\"💁🏾‍♂️\", \" 💁🏾‍♂️\")\n",
    "    t = t.replace(\".\", \" .\")\n",
    "    t = t.replace(\"!\", \" !\")\n",
    "    t = t.replace(\"?\", \" ?\")\n",
    "    t = t.replace(\"🔝\", \" 🔝\")\n",
    "    t = t.replace(\"😴\", \" 😴\")\n",
    "    t = t.replace(\"😎\", \" 😎\")\n",
    "    t = t.replace(\"😍\", \" 😍\")\n",
    "    t = t.replace(\"👌🏽\", \" 👌🏽\")\n",
    "    t = t.replace(\"❤️\", \" ❤️\")\n",
    "    t = t.replace(\"#\", \"# \")\n",
    "    t = t.lower()\n",
    "    r += t\n",
    "    t = t.split(\" \")\n",
    "    t = tuple(t)\n",
    "    d[t] = df.iloc[i][\"Classificação\"]\n",
    "r = r.split(\" \")\n",
    "\n",
    "#Contagem das palavras\n",
    "for palavra in r:\n",
    "    if palavra not in d_pcount:\n",
    "        d_pcount[palavra] = 1\n",
    "    else:\n",
    "        d_pcount[palavra] += 1\n",
    "total_p = len(r)\n",
    "\n",
    "#Sort da contagem das palavras\n",
    "d_pcount_s = sorted(d_pcount.items(), key=lambda x:x[1])\n",
    "\n",
    "\n",
    "#Criação de um dicionário que conta a quantidade da bom e neutro por palavra\n",
    "for key in d_pcount.keys():\n",
    "    if key not in d_classcount:\n",
    "        d_classcount[key] = [0,0]\n",
    "    for tup in d.keys():\n",
    "        for i in range(len(tup)):\n",
    "            if key == tup[i]:\n",
    "                if d[tup] == \"b\":\n",
    "                    d_classcount[key][0] += 1\n",
    "                else:\n",
    "                    d_classcount[key][1] += 1\n",
    "                    \n",
    "#Contagem da quantidade de tweets bom e neutro\n",
    "qnt_bom = 0\n",
    "qnt_neutro = 0\n",
    "\n",
    "for key in d.keys():\n",
    "    if d[key] == \"b\":\n",
    "        qnt_bom += 1\n",
    "    else:\n",
    "        qnt_neutro += 1\n",
    "        \n",
    "total_tweets = qnt_bom + qnt_neutro\n",
    "\n",
    "def P(a, s):\n",
    "    return a/s\n",
    "\n",
    "def count(palavra, clas):\n",
    "    a = 0\n",
    "    for key in d.keys():\n",
    "        if d[key] == clas:\n",
    "            for i in range(len(key)):\n",
    "                if key[i] == palavra:\n",
    "                    a += 1\n",
    "    return a\n",
    "\n",
    "def B(palavra, clas):\n",
    "    i = 0\n",
    "    s = \"\"\n",
    "    if clas == \"b\":\n",
    "        s = qnt_bom\n",
    "    else:\n",
    "        s = qnt_neutro\n",
    "    print(count(palavra, clas))\n",
    "    print(s)\n",
    "    print(total_class)\n",
    "    print(d_pcount[palavra])\n",
    "    print(total_p)\n",
    "    print(P(count(palavra, clas), s))\n",
    "    print(P(s, total_tweets))\n",
    "    print(P(d_pcount[palavra], total_p))\n",
    "    return P(count(palavra, clas), s)*P(s, total_tweets)/P(d_pcount[palavra], total_p)\n",
    "\n",
    "#print(count(\"narcos\", \"b\"))\n",
    "print(B(\"narcos\", \"b\"))"
   ]
  },
  {
   "cell_type": "markdown",
   "metadata": {},
   "source": [
    "___\n",
    "## Verificando a performance\n",
    "\n",
    "Agora você deve testar o seu Classificador com a base de Testes.<br /><br /> \n",
    "\n",
    "Você deve extrair as seguintes medidas:\n",
    "* Porcentagem de positivos falsos (marcados como relevante mas não são relevantes)\n",
    "* Porcentagem de positivos verdadeiros (marcado como relevante e são relevantes)\n",
    "* Porcentagem de negativos verdadeiros (marcado como não relevante e não são relevantes)\n",
    "* Porcentagem de negativos falsos (marcado como não relevante e são relevantes)\n",
    "\n",
    "Opcionalmente:\n",
    "* Criar categorias intermediárias de relevância baseado na diferença de probabilidades. Exemplo: muito relevante, relevante, neutro, irrelevante e muito irrelevante."
   ]
  },
  {
   "cell_type": "code",
   "execution_count": null,
   "metadata": {
    "collapsed": true,
    "scrolled": true
   },
   "outputs": [],
   "source": []
  },
  {
   "cell_type": "markdown",
   "metadata": {
    "collapsed": true
   },
   "source": [
    "___\n",
    "## Concluindo\n",
    "\n",
    "Escreva aqui a sua conclusão.<br /> \n",
    "Faça um comparativo qualitativo sobre as medidas obtidas.<br />\n",
    "Explique como são tratadas as mensagens com dupla negação e sarcasmo.<br />\n",
    "Proponha um plano de expansão. Por que eles devem continuar financiando o seu projeto?<br />\n",
    "\n",
    "Opcionalmente: \n",
    "* Discorrer por que não posso alimentar minha base de Treinamento automaticamente usando o próprio classificador, aplicado a novos tweets.\n",
    "* Propor diferentes cenários de uso para o classificador Naive-Bayes. Cenários sem intersecção com este projeto.\n",
    "* Sugerir e explicar melhorias reais no classificador com indicações concretas de como implementar (não é preciso codificar, mas indicar como fazer e material de pesquisa sobre o assunto).\n"
   ]
  },
  {
   "cell_type": "code",
   "execution_count": null,
   "metadata": {
    "collapsed": true
   },
   "outputs": [],
   "source": []
  }
 ],
 "metadata": {
  "kernelspec": {
   "display_name": "Python 3",
   "language": "python",
   "name": "python3"
  },
  "language_info": {
   "codemirror_mode": {
    "name": "ipython",
    "version": 3
   },
   "file_extension": ".py",
   "mimetype": "text/x-python",
   "name": "python",
   "nbconvert_exporter": "python",
   "pygments_lexer": "ipython3",
   "version": "3.6.0"
  }
 },
 "nbformat": 4,
 "nbformat_minor": 1
}
