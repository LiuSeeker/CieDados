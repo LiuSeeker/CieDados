{
 "cells": [
  {
   "cell_type": "markdown",
   "metadata": {},
   "source": [
    "___\n",
    "# Atividade: Modelos probabilísticos contínuos e Dados\n",
    "___\n",
    "\n",
    "## Aula 14\n",
    "\n",
    "**Preparo Prévio:**\n",
    "1. Leitura prévia necessária: Magalhães e Lima (7ª. Edição): Modelo Normal (pág. 197 a 201).\n",
    "2. Executar o arquivo `Aula13 Modelos probabilísticos contínuos.ipynb`\n",
    "3. Leitura prévia necessária: Magalhães e Lima (7ª. Edição): Gráfico de quantis ou QQplot (pág. 27 - Exemplo 1.10 e 1.11).\n",
    "4. Leitura prévia necessária: Magalhães e Lima (7ª. Edição): Gráfico de probabilidade (similar ao gráfico QQplot) (pág. 201 a 204) - Exemplo 6.10).\n",
    "\n",
    "**Hoje:**\n",
    "1. Reforçar mais ferramentas para Análise Descritiva\n",
    "2. Avaliar, descritivamente, adequação da normal aos dados.\n",
    "3. Contrastar resultados teóricos e empíricos.\n",
    "\n",
    "\n",
    "**Próxima aula:**\n",
    "1.\tLeitura prévia necessária: Magalhães e Lima (7ª. Edição): Seção 5.1 (pág. 137) e Seção 5.2 (pág. 146).\n",
    "___"
   ]
  },
  {
   "cell_type": "markdown",
   "metadata": {},
   "source": [
    "___\n",
    "## <font color='blue'>Padaria </font>\n",
    "\n",
    "Uma empresa deve decidir onde construir uma padaria: <font color='green'>Bairro A </font> ou <font color='orange'> Bairro B </font>. \n",
    "\n",
    "Como ambos os bairros possuem densidades populacionais próximas, os investidores visam atingir um público alvo de maior renda familiar. \n",
    "Assim, quanto maior o número de famílias com rendas familiares mais altas, maior será a chance do empreendimento ser bem sucedido. \n",
    "\n",
    "Considerando que a decisão final seja baseada em informações sobre a renda familiar dos moradores desses dois bairros, responda:\n",
    "\n",
    "1. Calcule algumas medidas resumo úteis para entender o comportamento dessa variável em ambos os bairros. Analise.\n",
    "\n",
    "2. Construa o histograma dos dados e compare as distribuições de renda familiar (em mil reais) dos dois bairros. Qual é o melhor bairro para construir a padaria? Justifique.\n",
    "\n",
    "3. Construa o QQ-Plot considerando quantil amostral do Bairro A vs quantil amostral do Bairro B. Esse gráfico de quantis amostrais auxilia a responder qual é o melhor bairro para construir a padaria? Justifique claramente.\n",
    "   Dica: veja construção desse gráfico no Magalhães e Lima (7ª edição) - pág. 27 e 29.\n",
    "\n",
    "4. Assuma que $X$: renda familiar de um determinado bairro tenha $\\mu$ estimada pela média amostral ($\\bar{x}$) e tenha $\\sigma^2$ estimada pela variância amostral, ambas de um mesmo bairro em questão. Verifique, visualmente/graficamente, se a distribuição normal é adequada para estimar a renda familiar de cada bairro. Para isso, interprete os seguintes gráficos:\n",
    "      1. Construa o histograma dos dados junto com a fdp da distribuição normal e analise.\n",
    "      \n",
    "      2. Construa o Gráfico de probabilidade considerando o quantil amostral vs o quantil teórico da distribuição normal. Interprete esse gráfico com intuito de avaliar se: A renda de cada bairro é bem modelada por uma distribuição normal?\n",
    "      Dica: veja Exemplo 6.8 do Magalhães e Lima (7ª. edição) de como obter as frequências relativas acumuladas a partir de uma amostra de tamanho n=500 (de cada bairro). Os quantis teóricos da distribuição normal podem ser obtidos pelo comando `stats.norm.ppf(p, loc=mu, scale=sigma)`, sendo `p` a frequencia relativa acumulada  obtida anteriormente.\n",
    "      \n",
    "      3. Construa um gráfico dos valores observados vs frequência relativa acumulada (a partir dos dados) e vs função de distribuição acumulada.\n",
    "   \n",
    "5. Independente da sua resposta do item anterior, assuma que $X$: renda familiar de um determinado bairro segue uma distribuição normal considerando as estimativas amostrais como valores dos parâmetros de cada bairro. Nesse caso, para cada bairro, calcule:\n",
    "      1. probabilidade de uma família possuir renda familiar maior do que 17 mil reais.\n",
    "\n",
    "      2. sabendo que a famíliar tem mais do que 15 mil reais de renda familiar, qual a probabilidade dessa possuir renda inferior a 16 mil reais.\n",
    "      \n",
    "      3. qual a menor renda familiar dos 5% das famílias que mais ganham em cada bairro? \n",
    "\n"
   ]
  },
  {
   "cell_type": "code",
   "execution_count": 1,
   "metadata": {
    "collapsed": false
   },
   "outputs": [
    {
     "name": "stdout",
     "output_type": "stream",
     "text": [
      "Esperamos trabalhar no diretório\n",
      "C:\\Users\\LiuSeeker\\Desktop\\2o Semestre\\Ciência dos dados\\CieDados\n"
     ]
    }
   ],
   "source": [
    "%matplotlib inline\n",
    "\n",
    "import os\n",
    "import matplotlib.pyplot as plt\n",
    "import pandas as pd\n",
    "import numpy as np\n",
    "from scipy import stats\n",
    "from numpy import mean, var, arange\n",
    "\n",
    "print('Esperamos trabalhar no diretório')\n",
    "print(os.getcwd())"
   ]
  },
  {
   "cell_type": "code",
   "execution_count": 2,
   "metadata": {
    "collapsed": false
   },
   "outputs": [],
   "source": [
    "#Abrir o arquivo\n",
    "df = pd.read_excel('Padaria.xlsx')"
   ]
  },
  {
   "cell_type": "code",
   "execution_count": 3,
   "metadata": {
    "collapsed": false
   },
   "outputs": [
    {
     "data": {
      "text/html": [
       "<div>\n",
       "<table border=\"1\" class=\"dataframe\">\n",
       "  <thead>\n",
       "    <tr style=\"text-align: right;\">\n",
       "      <th></th>\n",
       "      <th>A</th>\n",
       "      <th>B</th>\n",
       "    </tr>\n",
       "  </thead>\n",
       "  <tbody>\n",
       "    <tr>\n",
       "      <th>0</th>\n",
       "      <td>15.12024</td>\n",
       "      <td>15.09858</td>\n",
       "    </tr>\n",
       "    <tr>\n",
       "      <th>1</th>\n",
       "      <td>15.84624</td>\n",
       "      <td>16.31988</td>\n",
       "    </tr>\n",
       "    <tr>\n",
       "      <th>2</th>\n",
       "      <td>15.23992</td>\n",
       "      <td>13.07412</td>\n",
       "    </tr>\n",
       "    <tr>\n",
       "      <th>3</th>\n",
       "      <td>15.32792</td>\n",
       "      <td>16.06320</td>\n",
       "    </tr>\n",
       "    <tr>\n",
       "      <th>4</th>\n",
       "      <td>14.54736</td>\n",
       "      <td>16.13565</td>\n",
       "    </tr>\n",
       "  </tbody>\n",
       "</table>\n",
       "</div>"
      ],
      "text/plain": [
       "          A         B\n",
       "0  15.12024  15.09858\n",
       "1  15.84624  16.31988\n",
       "2  15.23992  13.07412\n",
       "3  15.32792  16.06320\n",
       "4  14.54736  16.13565"
      ]
     },
     "execution_count": 3,
     "metadata": {},
     "output_type": "execute_result"
    }
   ],
   "source": [
    "df.head()"
   ]
  },
  {
   "cell_type": "code",
   "execution_count": 4,
   "metadata": {
    "collapsed": false
   },
   "outputs": [
    {
     "name": "stdout",
     "output_type": "stream",
     "text": [
      "Média A = 15.321675519999996, Média B: 14.221997099999992\n"
     ]
    }
   ],
   "source": [
    "M_A = df.mean(axis=0)[0]\n",
    "M_B = df.mean(axis=0)[1]\n",
    "print(\"Média A = {}, Média B: {}\" .format(M_A, M_B))"
   ]
  },
  {
   "cell_type": "code",
   "execution_count": 5,
   "metadata": {
    "collapsed": false
   },
   "outputs": [
    {
     "name": "stdout",
     "output_type": "stream",
     "text": [
      "Mediana A = 15.335840000000001, Mediana B: 14.348204999999998\n"
     ]
    }
   ],
   "source": [
    "Me_A = df.median(axis=0)[0]\n",
    "Me_B = df.median(axis=0)[1]\n",
    "print(\"Mediana A = {}, Mediana B: {}\" .format(Me_A, Me_B))"
   ]
  },
  {
   "cell_type": "markdown",
   "metadata": {},
   "source": [
    "## Gráfico histograma de A"
   ]
  },
  {
   "cell_type": "code",
   "execution_count": 6,
   "metadata": {
    "collapsed": false
   },
   "outputs": [
    {
     "name": "stdout",
     "output_type": "stream",
     "text": [
      "loc_A = 15.321675520000001, scale_A = 0.5920058441487971\n"
     ]
    }
   ],
   "source": [
    "mu_A,sigma_A = stats.norm.fit(df[\"A\"])\n",
    "print(\"loc_A = {}, scale_A = {}\".format(mu_A,sigma_A))"
   ]
  },
  {
   "cell_type": "code",
   "execution_count": 7,
   "metadata": {
    "collapsed": false
   },
   "outputs": [
    {
     "data": {
      "text/plain": [
       "<matplotlib.text.Text at 0x253ecd8b898>"
      ]
     },
     "execution_count": 7,
     "metadata": {},
     "output_type": "execute_result"
    },
    {
     "data": {
      "image/png": "[encoded data removed]",
      "text/plain": [
       "<matplotlib.figure.Figure at 0x253eccf8b00>"
      ]
     },
     "metadata": {},
     "output_type": "display_data"
    }
   ],
   "source": [
    "plt.figure()\n",
    "pd.Series(df[\"A\"].hist(normed=True))\n",
    "x1 = np.linspace(8,20,50)\n",
    "pdf_x1 = stats.norm.pdf(x1, loc=mu_A, scale=sigma_A)\n",
    "\n",
    "plt.plot(x1, pdf_x1)\n",
    "plt.title(\"Distribuição renda familiar (em mil reais) no bairro A\")\n",
    "plt.xlabel(\"Renada familiar (em mil reais)\")\n",
    "plt.ylabel(\"Frequência realtiva\")"
   ]
  },
  {
   "cell_type": "markdown",
   "metadata": {},
   "source": [
    "## Gráfico histograma de B"
   ]
  },
  {
   "cell_type": "code",
   "execution_count": 8,
   "metadata": {
    "collapsed": false
   },
   "outputs": [
    {
     "name": "stdout",
     "output_type": "stream",
     "text": [
      "loc_B = 14.221997100000001, scale_B = 1.8383407164526901\n"
     ]
    }
   ],
   "source": [
    "mu_B,sigma_B = stats.norm.fit(df[\"B\"])\n",
    "print(\"loc_B = {}, scale_B = {}\".format(mu_B,sigma_B))"
   ]
  },
  {
   "cell_type": "code",
   "execution_count": 9,
   "metadata": {
    "collapsed": false
   },
   "outputs": [
    {
     "data": {
      "text/plain": [
       "<matplotlib.text.Text at 0x253ed1efe80>"
      ]
     },
     "execution_count": 9,
     "metadata": {},
     "output_type": "execute_result"
    },
    {
     "data": {
      "image/png": "[encoded data removed]",
      "text/plain": [
       "<matplotlib.figure.Figure at 0x253eccf8080>"
      ]
     },
     "metadata": {},
     "output_type": "display_data"
    }
   ],
   "source": [
    "plt.figure()\n",
    "pd.Series(df[\"B\"].hist(normed=True))\n",
    "x2 = np.linspace(8,20,50)\n",
    "pdf_x2 = stats.norm.pdf(x2, loc=mu_B, scale=sigma_B)\n",
    "\n",
    "plt.plot(x2, pdf_x2)\n",
    "plt.title(\"Distribuição renda familiar (em mil reais) no bairro B\")\n",
    "plt.xlabel(\"Renada familiar (em mil reais)\")\n",
    "plt.ylabel(\"Frequência realtiva\")"
   ]
  },
  {
   "cell_type": "markdown",
   "metadata": {},
   "source": [
    "## Q-Q-Plot"
   ]
  },
  {
   "cell_type": "code",
   "execution_count": 10,
   "metadata": {
    "collapsed": false
   },
   "outputs": [
    {
     "data": {
      "image/png": "[encoded data removed]",
      "text/plain": [
       "<matplotlib.figure.Figure at 0x253ed204358>"
      ]
     },
     "metadata": {},
     "output_type": "display_data"
    }
   ],
   "source": [
    "A_sort = sorted(df[\"A\"])\n",
    "B_sort = sorted(df[\"B\"])\n",
    "\n",
    "plt.plot(A_sort,B_sort,'ro')\n",
    "plt.show()"
   ]
  },
  {
   "cell_type": "code",
   "execution_count": null,
   "metadata": {
    "collapsed": true
   },
   "outputs": [],
   "source": []
  }
 ],
 "metadata": {
  "anaconda-cloud": {},
  "kernelspec": {
   "display_name": "Python 3",
   "language": "python",
   "name": "python3"
  },
  "language_info": {
   "codemirror_mode": {
    "name": "ipython",
    "version": 3
   },
   "file_extension": ".py",
   "mimetype": "text/x-python",
   "name": "python",
   "nbconvert_exporter": "python",
   "pygments_lexer": "ipython3",
   "version": "3.6.0"
  }
 },
 "nbformat": 4,
 "nbformat_minor": 1
}
