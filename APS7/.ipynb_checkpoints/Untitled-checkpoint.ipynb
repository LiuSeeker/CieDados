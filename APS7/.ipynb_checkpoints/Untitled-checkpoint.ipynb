{
 "cells": [
  {
   "cell_type": "code",
   "execution_count": 24,
   "metadata": {
    "collapsed": true
   },
   "outputs": [],
   "source": [
    "import matplotlib.pyplot as plt\n",
    "import pandas as pd\n",
    "import numpy as np\n",
    "from math import *\n",
    "from scipy import stats\n",
    "%matplotlib inline"
   ]
  },
  {
   "cell_type": "markdown",
   "metadata": {},
   "source": [
    "## Questão 1"
   ]
  },
  {
   "cell_type": "code",
   "execution_count": 29,
   "metadata": {
    "collapsed": false
   },
   "outputs": [],
   "source": [
    "a = [0.8411, 0.8191, 0.8182, 0.8125, 0.8580, 0.8532, 0.8483, 0.8276, 0.8042, 0.8730,\n",
    "0.8282, 0.8359, 0.8750, 0.7983, 0.8660]\n",
    "n = len(a)\n",
    "mi0 = 0.82\n",
    "alp = 0.05"
   ]
  },
  {
   "cell_type": "code",
   "execution_count": 30,
   "metadata": {
    "collapsed": false
   },
   "outputs": [
    {
     "name": "stdout",
     "output_type": "stream",
     "text": [
      "x linha = 0.83724; s = 0.024557099642611345\n"
     ]
    }
   ],
   "source": [
    "a_ = np.mean(a)\n",
    "s = np.std(a,ddof=1)\n",
    "\n",
    "print(\"x linha = {}; s = {}\" .format(a_, s))"
   ]
  },
  {
   "cell_type": "markdown",
   "metadata": {},
   "source": [
    "### a) x linha = 0.837; s = 0.024"
   ]
  },
  {
   "cell_type": "markdown",
   "metadata": {},
   "source": [
    "### b) Hipótese nula (H0): média = 0,82.\n",
    "### Hipótese alternativa: média > 0,82.\n",
    "### O teste de hipótese vai ter região unicaudal"
   ]
  },
  {
   "cell_type": "code",
   "execution_count": 48,
   "metadata": {
    "collapsed": false
   },
   "outputs": [
    {
     "name": "stdout",
     "output_type": "stream",
     "text": [
      "t_obs = 2.718978782525142\n"
     ]
    }
   ],
   "source": [
    "t = (a_-mi0)/(s/sqrt(n))\n",
    "print(\"t_obs = {}\" .format(t))"
   ]
  },
  {
   "cell_type": "markdown",
   "metadata": {},
   "source": [
    "### c) t_obs = 2.718"
   ]
  },
  {
   "cell_type": "code",
   "execution_count": 49,
   "metadata": {
    "collapsed": false
   },
   "outputs": [
    {
     "name": "stdout",
     "output_type": "stream",
     "text": [
      "t_critico = 1.7613101357748562\n"
     ]
    }
   ],
   "source": [
    "tc = stats.t.ppf(1-alp, loc = 0, scale = 1, df = n-1)\n",
    "print(\"t_critico = {}\" .format(tc))"
   ]
  },
  {
   "cell_type": "markdown",
   "metadata": {},
   "source": [
    "### d) Como t_obs (2.718) é maior que o t_crítico (1.761), é possível afirmar que a hipótese nula é falsa"
   ]
  },
  {
   "cell_type": "code",
   "execution_count": 50,
   "metadata": {
    "collapsed": false
   },
   "outputs": [
    {
     "name": "stdout",
     "output_type": "stream",
     "text": [
      "p_t = 0.008313368681510891\n"
     ]
    }
   ],
   "source": [
    "pt = 1 - stats.t.cdf(t, loc = 0, scale =1, df = n-1)\n",
    "print(\"p_t = {}\" .format(pt))"
   ]
  },
  {
   "cell_type": "markdown",
   "metadata": {},
   "source": [
    "### e) Sabendo que o valor de alpha é 0.05, ou 5%, o valor do valor p de t_obs, que é 0.008, ou 0.8% (menor que alpha), comprova a conclusão do item D."
   ]
  },
  {
   "cell_type": "code",
   "execution_count": 51,
   "metadata": {
    "collapsed": false
   },
   "outputs": [
    {
     "data": {
      "text/plain": [
       "0.0083133686815108909"
      ]
     },
     "execution_count": 51,
     "metadata": {},
     "output_type": "execute_result"
    }
   ],
   "source": [
    "p_alp = 1 - stats.t.cdf(a_, loc = mi0, scale = s/sqrt(n), df = n-1)\n",
    "p_alp"
   ]
  },
  {
   "cell_type": "code",
   "execution_count": 52,
   "metadata": {
    "collapsed": false
   },
   "outputs": [
    {
     "data": {
      "text/plain": [
       "0.83116779098679039"
      ]
     },
     "execution_count": 52,
     "metadata": {},
     "output_type": "execute_result"
    }
   ],
   "source": [
    "xc = stats.t.ppf(1- alp,loc = mi0, scale = s/sqrt(n), df = n-1)\n",
    "xc"
   ]
  },
  {
   "cell_type": "markdown",
   "metadata": {},
   "source": [
    "### f) Refazendo o teste de hipótese utilizando os valores não padronizados, o x critico é menor que o x médio, e o valor de p de x é menor que alpha."
   ]
  },
  {
   "cell_type": "markdown",
   "metadata": {},
   "source": [
    "## Questão 2"
   ]
  },
  {
   "cell_type": "code",
   "execution_count": null,
   "metadata": {
    "collapsed": true
   },
   "outputs": [],
   "source": [
    "x_ = [23.01, 22.22, 22.04, 22.62, 22.59]\n",
    "alp = 0.05"
   ]
  }
 ],
 "metadata": {
  "kernelspec": {
   "display_name": "Python 3",
   "language": "python",
   "name": "python3"
  },
  "language_info": {
   "codemirror_mode": {
    "name": "ipython",
    "version": 3
   },
   "file_extension": ".py",
   "mimetype": "text/x-python",
   "name": "python",
   "nbconvert_exporter": "python",
   "pygments_lexer": "ipython3",
   "version": "3.6.0"
  }
 },
 "nbformat": 4,
 "nbformat_minor": 2
}
